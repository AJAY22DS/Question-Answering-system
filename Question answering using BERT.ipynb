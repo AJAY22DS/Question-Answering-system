{
 "cells": [
  {
   "cell_type": "code",
   "execution_count": 1,
   "id": "61ab5cf2",
   "metadata": {},
   "outputs": [],
   "source": [
    "from transformers import pipeline\n",
    "from transformers import BertForQuestionAnswering\n",
    "import torch\n",
    "import numpy as np"
   ]
  },
  {
   "cell_type": "code",
   "execution_count": 2,
   "id": "b0b66934",
   "metadata": {},
   "outputs": [
    {
     "name": "stdout",
     "output_type": "stream",
     "text": [
      "D.2.1 Total disability benefit\n",
      "\n",
      "\n",
      "\n",
      "If the person insured is totally disabled, we will pay you the total disability benefit. \n",
      "\n",
      "The total disability benefit is calculated monthly and we will pay you half a month in arrears and half a month in advance. \n",
      "\n",
      "The definition of totally disabled depends on the person insured’s occupation category. \n",
      "\n",
      "\n",
      "\n",
      "Where the Schedule specifies the occupation category as MP, AA, A, B or C \n",
      "\n",
      "The person insured is totally disabled if, because of an injury or sickness, he or she is: \n",
      "\n",
      "not capable of doing the important duties of his or her occupation \n",
      "\n",
      "not working in any occupation (whether paid or unpaid), and \n",
      "\n",
      "under medical care. \n",
      "\n",
      "However, if immediately preceding a claim the person insured has been unemployed for 15 months or on leave without pay for 12 months, he or she is totally disabled if, because of an injury or sickness, he or she is: \n",
      "\n",
      "not capable of performing any occupation (whether paid or unpaid) for which he or she is reasonably suited by education, training or experience \n",
      "\n",
      "not working in any occupation (whether paid or unpaid), and \n",
      "\n",
      "under medical care.\n",
      "\n",
      "\n",
      "\n",
      "Where the Schedule specifies the occupation category as D \n",
      "\n",
      "The person insured is totally disabled if, because of an injury or sickness, he or she is: \n",
      "\n",
      "not capable of doing the important duties of his or her occupation \n",
      "\n",
      "not working in any occupation (whether paid or unpaid), and \n",
      "\n",
      "under medical care. \n",
      "\n",
      "After the first two years of a claim, the person insured is totally disabled if, because of an injury or sickness he or she is: \n",
      "\n",
      "not capable of performing any occupation (whether paid or unpaid) for which he or she is reasonably suited by education, training or experience \n",
      "\n",
      "not working in any occupation (whether paid or unpaid), and \n",
      "\n",
      "under medical care. \n",
      "\n",
      "However, if immediately preceding a claim the person insured has been unemployed for 15 months or on leave without pay for 12 months, he or she is totally disabled if, because of an injury or sickness, he or she is: \n",
      "\n",
      "not capable of performing any occupation (whether paid or unpaid) for which he or she is reasonably suited by education, training or experience \n",
      "\n",
      "not working in any occupation (whether paid or unpaid), and \n",
      "\n",
      "under medical care.\n"
     ]
    }
   ],
   "source": [
    "import docx2txt\n",
    "\n",
    "\n",
    "# Open the Word document\n",
    "data = docx2txt.process('sample_policy_document.docx')\n",
    "\n",
    "print(data)"
   ]
  },
  {
   "cell_type": "code",
   "execution_count": 3,
   "id": "ba20c9c3",
   "metadata": {},
   "outputs": [],
   "source": [
    "questions= [\n",
    "    'How often total disability is calculated?',\n",
    "    'How to pay the total disability?',\n",
    "    'What the definition of total disability depends on?',\n",
    "    'The definition of total disability for occupation category as MP, AA, A, B or C?'\n",
    "]"
   ]
  },
  {
   "cell_type": "code",
   "execution_count": 4,
   "id": "a769b02b",
   "metadata": {},
   "outputs": [],
   "source": [
    "model= BertForQuestionAnswering.from_pretrained('deepset/bert-base-cased-squad2')"
   ]
  },
  {
   "cell_type": "code",
   "execution_count": 5,
   "id": "dcbf8900",
   "metadata": {},
   "outputs": [],
   "source": [
    "from transformers import AutoTokenizer"
   ]
  },
  {
   "cell_type": "code",
   "execution_count": 6,
   "id": "b8068925",
   "metadata": {},
   "outputs": [],
   "source": [
    "tokenizer= AutoTokenizer.from_pretrained('deepset/bert-base-cased-squad2')"
   ]
  },
  {
   "cell_type": "code",
   "execution_count": 7,
   "id": "6b55aecd",
   "metadata": {},
   "outputs": [
    {
     "data": {
      "text/plain": [
       "[101, 1731, 1510, 1703, 13996, 1110, 10056, 136, 102]"
      ]
     },
     "execution_count": 7,
     "metadata": {},
     "output_type": "execute_result"
    }
   ],
   "source": [
    "tokenizer.encode(questions[0], truncation=True, padding=True)"
   ]
  },
  {
   "cell_type": "code",
   "execution_count": 8,
   "id": "d94a8be0",
   "metadata": {},
   "outputs": [],
   "source": [
    "nlp= pipeline('question-answering', model=model, tokenizer=tokenizer)"
   ]
  },
  {
   "cell_type": "code",
   "execution_count": 9,
   "id": "0e969b54",
   "metadata": {},
   "outputs": [],
   "source": [
    "a1= nlp({\n",
    "    'question': questions[0],\n",
    "    'context': data\n",
    "})"
   ]
  },
  {
   "cell_type": "code",
   "execution_count": 10,
   "id": "a2b0534f",
   "metadata": {},
   "outputs": [],
   "source": [
    "a2=nlp({\n",
    "    'question': questions[1],\n",
    "    'context': data\n",
    "})"
   ]
  },
  {
   "cell_type": "code",
   "execution_count": 11,
   "id": "0daa79a7",
   "metadata": {},
   "outputs": [],
   "source": [
    "a3= nlp({\n",
    "    'question': questions[2],\n",
    "    'context': data\n",
    "})"
   ]
  },
  {
   "cell_type": "code",
   "execution_count": 12,
   "id": "c2620004",
   "metadata": {},
   "outputs": [],
   "source": [
    "a4= nlp({\n",
    "    'question': questions[3],\n",
    "    'context': data\n",
    "})"
   ]
  },
  {
   "cell_type": "code",
   "execution_count": 13,
   "id": "e60f9167",
   "metadata": {},
   "outputs": [
    {
     "name": "stdout",
     "output_type": "stream",
     "text": [
      "1- How often total disability is calculated? \n",
      " {'score': 0.9371593594551086, 'start': 168, 'end': 175, 'answer': 'monthly'}\n",
      "\n",
      "\n",
      "2- How to pay the total disability? \n",
      " {'score': 0.016304951161146164, 'start': 168, 'end': 175, 'answer': 'monthly'}\n",
      "\n",
      "\n",
      "3- What the definition of total disability depends on? \n",
      " {'score': 0.0040762037970125675, 'start': 301, 'end': 337, 'answer': 'person insured’s occupation category'}\n",
      "\n",
      "\n",
      "4- The definition of total disability for occupation category as MP, AA, A, B or C? \n",
      " {'score': 0.056765466928482056, 'start': 1170, 'end': 1171, 'answer': 'D'}\n"
     ]
    }
   ],
   "source": [
    "print('1-',questions[0],'\\n', a1)\n",
    "print('\\n')\n",
    "print('2-',questions[1],'\\n', a2)\n",
    "print('\\n')\n",
    "print('3-',questions[2],'\\n', a3)\n",
    "print('\\n')\n",
    "print('4-',questions[3],'\\n', a4)"
   ]
  },
  {
   "cell_type": "code",
   "execution_count": null,
   "id": "54b7ba43",
   "metadata": {},
   "outputs": [],
   "source": []
  },
  {
   "cell_type": "code",
   "execution_count": null,
   "id": "6a6ebc09",
   "metadata": {},
   "outputs": [],
   "source": []
  },
  {
   "cell_type": "code",
   "execution_count": null,
   "id": "cf9711d9",
   "metadata": {},
   "outputs": [],
   "source": []
  }
 ],
 "metadata": {
  "kernelspec": {
   "display_name": "Python 3 (ipykernel)",
   "language": "python",
   "name": "python3"
  },
  "language_info": {
   "codemirror_mode": {
    "name": "ipython",
    "version": 3
   },
   "file_extension": ".py",
   "mimetype": "text/x-python",
   "name": "python",
   "nbconvert_exporter": "python",
   "pygments_lexer": "ipython3",
   "version": "3.9.12"
  }
 },
 "nbformat": 4,
 "nbformat_minor": 5
}
